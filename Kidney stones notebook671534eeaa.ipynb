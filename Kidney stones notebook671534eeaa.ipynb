{
 "cells": [
  {
   "cell_type": "code",
   "execution_count": 1,
   "id": "f53e8358",
   "metadata": {
    "_cell_guid": "b1076dfc-b9ad-4769-8c92-a6c4dae69d19",
    "_uuid": "8f2839f25d086af736a60e9eeb907d3b93b6e0e5",
    "execution": {
     "iopub.execute_input": "2023-04-12T13:17:21.821953Z",
     "iopub.status.busy": "2023-04-12T13:17:21.821547Z",
     "iopub.status.idle": "2023-04-12T13:17:21.836663Z",
     "shell.execute_reply": "2023-04-12T13:17:21.835352Z"
    },
    "papermill": {
     "duration": 0.026265,
     "end_time": "2023-04-12T13:17:21.839433",
     "exception": false,
     "start_time": "2023-04-12T13:17:21.813168",
     "status": "completed"
    },
    "tags": []
   },
   "outputs": [
    {
     "name": "stdout",
     "output_type": "stream",
     "text": [
      "/kaggle/input/playground-series-s3e12/sample_submission.csv\n",
      "/kaggle/input/playground-series-s3e12/train.csv\n",
      "/kaggle/input/playground-series-s3e12/test.csv\n"
     ]
    }
   ],
   "source": [
    "# This Python 3 environment comes with many helpful analytics libraries installed\n",
    "# It is defined by the kaggle/python Docker image: https://github.com/kaggle/docker-python\n",
    "# For example, here's several helpful packages to load\n",
    "\n",
    "import numpy as np # linear algebra\n",
    "import pandas as pd # data processing, CSV file I/O (e.g. pd.read_csv)\n",
    "\n",
    "# Input data files are available in the read-only \"../input/\" directory\n",
    "# For example, running this (by clicking run or pressing Shift+Enter) will list all files under the input directory\n",
    "\n",
    "import os\n",
    "for dirname, _, filenames in os.walk('/kaggle/input'):\n",
    "    for filename in filenames:\n",
    "        print(os.path.join(dirname, filename))\n",
    "\n",
    "# You can write up to 20GB to the current directory (/kaggle/working/) that gets preserved as output when you create a version using \"Save & Run All\" \n",
    "# You can also write temporary files to /kaggle/temp/, but they won't be saved outside of the current session"
   ]
  },
  {
   "cell_type": "code",
   "execution_count": 2,
   "id": "9a5001a5",
   "metadata": {
    "execution": {
     "iopub.execute_input": "2023-04-12T13:17:21.852704Z",
     "iopub.status.busy": "2023-04-12T13:17:21.851813Z",
     "iopub.status.idle": "2023-04-12T13:17:21.902892Z",
     "shell.execute_reply": "2023-04-12T13:17:21.901423Z"
    },
    "papermill": {
     "duration": 0.060749,
     "end_time": "2023-04-12T13:17:21.905668",
     "exception": false,
     "start_time": "2023-04-12T13:17:21.844919",
     "status": "completed"
    },
    "tags": []
   },
   "outputs": [
    {
     "data": {
      "text/html": [
       "<div>\n",
       "<style scoped>\n",
       "    .dataframe tbody tr th:only-of-type {\n",
       "        vertical-align: middle;\n",
       "    }\n",
       "\n",
       "    .dataframe tbody tr th {\n",
       "        vertical-align: top;\n",
       "    }\n",
       "\n",
       "    .dataframe thead th {\n",
       "        text-align: right;\n",
       "    }\n",
       "</style>\n",
       "<table border=\"1\" class=\"dataframe\">\n",
       "  <thead>\n",
       "    <tr style=\"text-align: right;\">\n",
       "      <th></th>\n",
       "      <th>id</th>\n",
       "      <th>gravity</th>\n",
       "      <th>ph</th>\n",
       "      <th>osmo</th>\n",
       "      <th>cond</th>\n",
       "      <th>urea</th>\n",
       "      <th>calc</th>\n",
       "      <th>target</th>\n",
       "    </tr>\n",
       "  </thead>\n",
       "  <tbody>\n",
       "    <tr>\n",
       "      <th>0</th>\n",
       "      <td>0</td>\n",
       "      <td>1.013</td>\n",
       "      <td>6.19</td>\n",
       "      <td>443</td>\n",
       "      <td>14.8</td>\n",
       "      <td>124</td>\n",
       "      <td>1.45</td>\n",
       "      <td>0</td>\n",
       "    </tr>\n",
       "    <tr>\n",
       "      <th>1</th>\n",
       "      <td>1</td>\n",
       "      <td>1.025</td>\n",
       "      <td>5.40</td>\n",
       "      <td>703</td>\n",
       "      <td>23.6</td>\n",
       "      <td>394</td>\n",
       "      <td>4.18</td>\n",
       "      <td>0</td>\n",
       "    </tr>\n",
       "    <tr>\n",
       "      <th>2</th>\n",
       "      <td>2</td>\n",
       "      <td>1.009</td>\n",
       "      <td>6.13</td>\n",
       "      <td>371</td>\n",
       "      <td>24.5</td>\n",
       "      <td>159</td>\n",
       "      <td>9.04</td>\n",
       "      <td>0</td>\n",
       "    </tr>\n",
       "    <tr>\n",
       "      <th>3</th>\n",
       "      <td>3</td>\n",
       "      <td>1.021</td>\n",
       "      <td>4.91</td>\n",
       "      <td>442</td>\n",
       "      <td>20.8</td>\n",
       "      <td>398</td>\n",
       "      <td>6.63</td>\n",
       "      <td>1</td>\n",
       "    </tr>\n",
       "    <tr>\n",
       "      <th>4</th>\n",
       "      <td>4</td>\n",
       "      <td>1.021</td>\n",
       "      <td>5.53</td>\n",
       "      <td>874</td>\n",
       "      <td>17.8</td>\n",
       "      <td>385</td>\n",
       "      <td>2.21</td>\n",
       "      <td>1</td>\n",
       "    </tr>\n",
       "  </tbody>\n",
       "</table>\n",
       "</div>"
      ],
      "text/plain": [
       "   id  gravity    ph  osmo  cond  urea  calc  target\n",
       "0   0    1.013  6.19   443  14.8   124  1.45       0\n",
       "1   1    1.025  5.40   703  23.6   394  4.18       0\n",
       "2   2    1.009  6.13   371  24.5   159  9.04       0\n",
       "3   3    1.021  4.91   442  20.8   398  6.63       1\n",
       "4   4    1.021  5.53   874  17.8   385  2.21       1"
      ]
     },
     "execution_count": 2,
     "metadata": {},
     "output_type": "execute_result"
    }
   ],
   "source": [
    "#load data\n",
    "train=pd.read_csv('/kaggle/input/playground-series-s3e12/train.csv')\n",
    "test=pd.read_csv('/kaggle/input/playground-series-s3e12/test.csv')\n",
    "train.head()"
   ]
  },
  {
   "cell_type": "code",
   "execution_count": 3,
   "id": "b928f14e",
   "metadata": {
    "execution": {
     "iopub.execute_input": "2023-04-12T13:17:21.918436Z",
     "iopub.status.busy": "2023-04-12T13:17:21.917980Z",
     "iopub.status.idle": "2023-04-12T13:17:21.933429Z",
     "shell.execute_reply": "2023-04-12T13:17:21.932247Z"
    },
    "papermill": {
     "duration": 0.024612,
     "end_time": "2023-04-12T13:17:21.935948",
     "exception": false,
     "start_time": "2023-04-12T13:17:21.911336",
     "status": "completed"
    },
    "tags": []
   },
   "outputs": [
    {
     "data": {
      "text/html": [
       "<div>\n",
       "<style scoped>\n",
       "    .dataframe tbody tr th:only-of-type {\n",
       "        vertical-align: middle;\n",
       "    }\n",
       "\n",
       "    .dataframe tbody tr th {\n",
       "        vertical-align: top;\n",
       "    }\n",
       "\n",
       "    .dataframe thead th {\n",
       "        text-align: right;\n",
       "    }\n",
       "</style>\n",
       "<table border=\"1\" class=\"dataframe\">\n",
       "  <thead>\n",
       "    <tr style=\"text-align: right;\">\n",
       "      <th></th>\n",
       "      <th>id</th>\n",
       "      <th>gravity</th>\n",
       "      <th>ph</th>\n",
       "      <th>osmo</th>\n",
       "      <th>cond</th>\n",
       "      <th>urea</th>\n",
       "      <th>calc</th>\n",
       "    </tr>\n",
       "  </thead>\n",
       "  <tbody>\n",
       "    <tr>\n",
       "      <th>0</th>\n",
       "      <td>414</td>\n",
       "      <td>1.017</td>\n",
       "      <td>5.24</td>\n",
       "      <td>345</td>\n",
       "      <td>11.5</td>\n",
       "      <td>152</td>\n",
       "      <td>1.16</td>\n",
       "    </tr>\n",
       "    <tr>\n",
       "      <th>1</th>\n",
       "      <td>415</td>\n",
       "      <td>1.020</td>\n",
       "      <td>5.68</td>\n",
       "      <td>874</td>\n",
       "      <td>29.0</td>\n",
       "      <td>385</td>\n",
       "      <td>3.46</td>\n",
       "    </tr>\n",
       "    <tr>\n",
       "      <th>2</th>\n",
       "      <td>416</td>\n",
       "      <td>1.024</td>\n",
       "      <td>5.36</td>\n",
       "      <td>698</td>\n",
       "      <td>19.5</td>\n",
       "      <td>354</td>\n",
       "      <td>13.00</td>\n",
       "    </tr>\n",
       "    <tr>\n",
       "      <th>3</th>\n",
       "      <td>417</td>\n",
       "      <td>1.020</td>\n",
       "      <td>5.33</td>\n",
       "      <td>668</td>\n",
       "      <td>25.3</td>\n",
       "      <td>252</td>\n",
       "      <td>3.46</td>\n",
       "    </tr>\n",
       "    <tr>\n",
       "      <th>4</th>\n",
       "      <td>418</td>\n",
       "      <td>1.011</td>\n",
       "      <td>5.87</td>\n",
       "      <td>567</td>\n",
       "      <td>29.0</td>\n",
       "      <td>457</td>\n",
       "      <td>2.36</td>\n",
       "    </tr>\n",
       "  </tbody>\n",
       "</table>\n",
       "</div>"
      ],
      "text/plain": [
       "    id  gravity    ph  osmo  cond  urea   calc\n",
       "0  414    1.017  5.24   345  11.5   152   1.16\n",
       "1  415    1.020  5.68   874  29.0   385   3.46\n",
       "2  416    1.024  5.36   698  19.5   354  13.00\n",
       "3  417    1.020  5.33   668  25.3   252   3.46\n",
       "4  418    1.011  5.87   567  29.0   457   2.36"
      ]
     },
     "execution_count": 3,
     "metadata": {},
     "output_type": "execute_result"
    }
   ],
   "source": [
    "test.head()"
   ]
  },
  {
   "cell_type": "code",
   "execution_count": 4,
   "id": "af544e68",
   "metadata": {
    "execution": {
     "iopub.execute_input": "2023-04-12T13:17:21.949482Z",
     "iopub.status.busy": "2023-04-12T13:17:21.949024Z",
     "iopub.status.idle": "2023-04-12T13:17:21.974626Z",
     "shell.execute_reply": "2023-04-12T13:17:21.973388Z"
    },
    "papermill": {
     "duration": 0.035856,
     "end_time": "2023-04-12T13:17:21.977665",
     "exception": false,
     "start_time": "2023-04-12T13:17:21.941809",
     "status": "completed"
    },
    "tags": []
   },
   "outputs": [
    {
     "name": "stdout",
     "output_type": "stream",
     "text": [
      "<class 'pandas.core.frame.DataFrame'>\n",
      "RangeIndex: 414 entries, 0 to 413\n",
      "Data columns (total 8 columns):\n",
      " #   Column   Non-Null Count  Dtype  \n",
      "---  ------   --------------  -----  \n",
      " 0   id       414 non-null    int64  \n",
      " 1   gravity  414 non-null    float64\n",
      " 2   ph       414 non-null    float64\n",
      " 3   osmo     414 non-null    int64  \n",
      " 4   cond     414 non-null    float64\n",
      " 5   urea     414 non-null    int64  \n",
      " 6   calc     414 non-null    float64\n",
      " 7   target   414 non-null    int64  \n",
      "dtypes: float64(4), int64(4)\n",
      "memory usage: 26.0 KB\n"
     ]
    }
   ],
   "source": [
    "#eda\n",
    "train.info()"
   ]
  },
  {
   "cell_type": "code",
   "execution_count": 5,
   "id": "a22027a3",
   "metadata": {
    "execution": {
     "iopub.execute_input": "2023-04-12T13:17:21.992013Z",
     "iopub.status.busy": "2023-04-12T13:17:21.991320Z",
     "iopub.status.idle": "2023-04-12T13:17:22.005253Z",
     "shell.execute_reply": "2023-04-12T13:17:22.003573Z"
    },
    "papermill": {
     "duration": 0.024284,
     "end_time": "2023-04-12T13:17:22.007814",
     "exception": false,
     "start_time": "2023-04-12T13:17:21.983530",
     "status": "completed"
    },
    "tags": []
   },
   "outputs": [
    {
     "name": "stdout",
     "output_type": "stream",
     "text": [
      "<class 'pandas.core.frame.DataFrame'>\n",
      "RangeIndex: 276 entries, 0 to 275\n",
      "Data columns (total 7 columns):\n",
      " #   Column   Non-Null Count  Dtype  \n",
      "---  ------   --------------  -----  \n",
      " 0   id       276 non-null    int64  \n",
      " 1   gravity  276 non-null    float64\n",
      " 2   ph       276 non-null    float64\n",
      " 3   osmo     276 non-null    int64  \n",
      " 4   cond     276 non-null    float64\n",
      " 5   urea     276 non-null    int64  \n",
      " 6   calc     276 non-null    float64\n",
      "dtypes: float64(4), int64(3)\n",
      "memory usage: 15.2 KB\n"
     ]
    }
   ],
   "source": [
    "test.info()"
   ]
  },
  {
   "cell_type": "code",
   "execution_count": 6,
   "id": "be4d27e6",
   "metadata": {
    "execution": {
     "iopub.execute_input": "2023-04-12T13:17:22.025141Z",
     "iopub.status.busy": "2023-04-12T13:17:22.024546Z",
     "iopub.status.idle": "2023-04-12T13:17:22.031674Z",
     "shell.execute_reply": "2023-04-12T13:17:22.029923Z"
    },
    "papermill": {
     "duration": 0.021678,
     "end_time": "2023-04-12T13:17:22.036152",
     "exception": false,
     "start_time": "2023-04-12T13:17:22.014474",
     "status": "completed"
    },
    "tags": []
   },
   "outputs": [
    {
     "name": "stdout",
     "output_type": "stream",
     "text": [
      "(414, 8)\n",
      "(276, 7)\n"
     ]
    }
   ],
   "source": [
    "print(train.shape)\n",
    "print(test.shape)"
   ]
  },
  {
   "cell_type": "code",
   "execution_count": 7,
   "id": "559ff3c4",
   "metadata": {
    "execution": {
     "iopub.execute_input": "2023-04-12T13:17:22.053391Z",
     "iopub.status.busy": "2023-04-12T13:17:22.052388Z",
     "iopub.status.idle": "2023-04-12T13:17:22.067535Z",
     "shell.execute_reply": "2023-04-12T13:17:22.065611Z"
    },
    "papermill": {
     "duration": 0.027197,
     "end_time": "2023-04-12T13:17:22.070987",
     "exception": false,
     "start_time": "2023-04-12T13:17:22.043790",
     "status": "completed"
    },
    "tags": []
   },
   "outputs": [
    {
     "data": {
      "text/plain": [
       "id         0\n",
       "gravity    0\n",
       "ph         0\n",
       "osmo       0\n",
       "cond       0\n",
       "urea       0\n",
       "calc       0\n",
       "target     0\n",
       "dtype: int64"
      ]
     },
     "execution_count": 7,
     "metadata": {},
     "output_type": "execute_result"
    }
   ],
   "source": [
    "train.isnull().sum()"
   ]
  },
  {
   "cell_type": "code",
   "execution_count": 8,
   "id": "2aa2c02b",
   "metadata": {
    "execution": {
     "iopub.execute_input": "2023-04-12T13:17:22.090281Z",
     "iopub.status.busy": "2023-04-12T13:17:22.089224Z",
     "iopub.status.idle": "2023-04-12T13:17:22.102318Z",
     "shell.execute_reply": "2023-04-12T13:17:22.100696Z"
    },
    "papermill": {
     "duration": 0.024914,
     "end_time": "2023-04-12T13:17:22.105061",
     "exception": false,
     "start_time": "2023-04-12T13:17:22.080147",
     "status": "completed"
    },
    "tags": []
   },
   "outputs": [
    {
     "data": {
      "text/plain": [
       "id         0\n",
       "gravity    0\n",
       "ph         0\n",
       "osmo       0\n",
       "cond       0\n",
       "urea       0\n",
       "calc       0\n",
       "dtype: int64"
      ]
     },
     "execution_count": 8,
     "metadata": {},
     "output_type": "execute_result"
    }
   ],
   "source": [
    "test.isnull().sum()"
   ]
  },
  {
   "cell_type": "code",
   "execution_count": 9,
   "id": "77ecfb47",
   "metadata": {
    "execution": {
     "iopub.execute_input": "2023-04-12T13:17:22.119776Z",
     "iopub.status.busy": "2023-04-12T13:17:22.118967Z",
     "iopub.status.idle": "2023-04-12T13:17:22.131037Z",
     "shell.execute_reply": "2023-04-12T13:17:22.129832Z"
    },
    "papermill": {
     "duration": 0.022312,
     "end_time": "2023-04-12T13:17:22.133652",
     "exception": false,
     "start_time": "2023-04-12T13:17:22.111340",
     "status": "completed"
    },
    "tags": []
   },
   "outputs": [
    {
     "data": {
      "text/plain": [
       "count    414.000000\n",
       "mean       5.955459\n",
       "std        0.642260\n",
       "min        4.760000\n",
       "25%        5.530000\n",
       "50%        5.740000\n",
       "75%        6.280000\n",
       "max        7.940000\n",
       "Name: ph, dtype: float64"
      ]
     },
     "execution_count": 9,
     "metadata": {},
     "output_type": "execute_result"
    }
   ],
   "source": [
    "train.ph.describe()"
   ]
  },
  {
   "cell_type": "code",
   "execution_count": 10,
   "id": "8ea40131",
   "metadata": {
    "execution": {
     "iopub.execute_input": "2023-04-12T13:17:22.148359Z",
     "iopub.status.busy": "2023-04-12T13:17:22.147572Z",
     "iopub.status.idle": "2023-04-12T13:17:22.727009Z",
     "shell.execute_reply": "2023-04-12T13:17:22.725779Z"
    },
    "papermill": {
     "duration": 0.590123,
     "end_time": "2023-04-12T13:17:22.729954",
     "exception": false,
     "start_time": "2023-04-12T13:17:22.139831",
     "status": "completed"
    },
    "tags": []
   },
   "outputs": [
    {
     "data": {
      "image/png": "[encoded data removed]",
      "text/plain": [
       "<Figure size 640x480 with 5 Axes>"
      ]
     },
     "metadata": {},
     "output_type": "display_data"
    }
   ],
   "source": [
    "import matplotlib.pyplot as plt\n",
    "fig = plt.figure()\n",
    "# Set the vertical/horizontal spacing between the subplots\n",
    "fig.subplots_adjust(hspace=0.5, wspace=1)\n",
    "\n",
    "plt.subplot(2,3,1)\n",
    "plt.scatter(train.gravity,train.ph,s=5)\n",
    "plt.xlabel('Gravity')\n",
    "plt.ylabel('pH')\n",
    "\n",
    "plt.subplot(2,3,2)\n",
    "plt.scatter(train.gravity,train.osmo,s=5)\n",
    "plt.xlabel('Gravity')\n",
    "plt.ylabel('Osmosis')\n",
    "\n",
    "plt.subplot(2,3,3)\n",
    "plt.scatter(train.gravity,train.cond,s=5)\n",
    "plt.xlabel('Gravity')\n",
    "plt.ylabel('Conductivity')\n",
    "\n",
    "plt.subplot(2,3,4)\n",
    "plt.scatter(train.gravity,train.urea,s=5)\n",
    "plt.xlabel('Gravity')\n",
    "plt.ylabel('Urea')\n",
    "\n",
    "plt.subplot(2,3,5)\n",
    "plt.scatter(train.gravity,train.calc,s=5)\n",
    "plt.xlabel('Gravity')\n",
    "plt.ylabel('Calcium')\n",
    "plt.show()"
   ]
  },
  {
   "cell_type": "code",
   "execution_count": 11,
   "id": "e20a5651",
   "metadata": {
    "execution": {
     "iopub.execute_input": "2023-04-12T13:17:22.746300Z",
     "iopub.status.busy": "2023-04-12T13:17:22.745851Z",
     "iopub.status.idle": "2023-04-12T13:17:22.765082Z",
     "shell.execute_reply": "2023-04-12T13:17:22.764039Z"
    },
    "papermill": {
     "duration": 0.030141,
     "end_time": "2023-04-12T13:17:22.767478",
     "exception": false,
     "start_time": "2023-04-12T13:17:22.737337",
     "status": "completed"
    },
    "tags": []
   },
   "outputs": [
    {
     "data": {
      "text/html": [
       "<div>\n",
       "<style scoped>\n",
       "    .dataframe tbody tr th:only-of-type {\n",
       "        vertical-align: middle;\n",
       "    }\n",
       "\n",
       "    .dataframe tbody tr th {\n",
       "        vertical-align: top;\n",
       "    }\n",
       "\n",
       "    .dataframe thead th {\n",
       "        text-align: right;\n",
       "    }\n",
       "</style>\n",
       "<table border=\"1\" class=\"dataframe\">\n",
       "  <thead>\n",
       "    <tr style=\"text-align: right;\">\n",
       "      <th></th>\n",
       "      <th>gravity</th>\n",
       "      <th>ph</th>\n",
       "      <th>osmo</th>\n",
       "      <th>cond</th>\n",
       "      <th>urea</th>\n",
       "      <th>calc</th>\n",
       "    </tr>\n",
       "  </thead>\n",
       "  <tbody>\n",
       "    <tr>\n",
       "      <th>0</th>\n",
       "      <td>1.013</td>\n",
       "      <td>6.19</td>\n",
       "      <td>443</td>\n",
       "      <td>14.8</td>\n",
       "      <td>124</td>\n",
       "      <td>1.45</td>\n",
       "    </tr>\n",
       "    <tr>\n",
       "      <th>1</th>\n",
       "      <td>1.025</td>\n",
       "      <td>5.40</td>\n",
       "      <td>703</td>\n",
       "      <td>23.6</td>\n",
       "      <td>394</td>\n",
       "      <td>4.18</td>\n",
       "    </tr>\n",
       "    <tr>\n",
       "      <th>2</th>\n",
       "      <td>1.009</td>\n",
       "      <td>6.13</td>\n",
       "      <td>371</td>\n",
       "      <td>24.5</td>\n",
       "      <td>159</td>\n",
       "      <td>9.04</td>\n",
       "    </tr>\n",
       "    <tr>\n",
       "      <th>3</th>\n",
       "      <td>1.021</td>\n",
       "      <td>4.91</td>\n",
       "      <td>442</td>\n",
       "      <td>20.8</td>\n",
       "      <td>398</td>\n",
       "      <td>6.63</td>\n",
       "    </tr>\n",
       "    <tr>\n",
       "      <th>4</th>\n",
       "      <td>1.021</td>\n",
       "      <td>5.53</td>\n",
       "      <td>874</td>\n",
       "      <td>17.8</td>\n",
       "      <td>385</td>\n",
       "      <td>2.21</td>\n",
       "    </tr>\n",
       "  </tbody>\n",
       "</table>\n",
       "</div>"
      ],
      "text/plain": [
       "   gravity    ph  osmo  cond  urea  calc\n",
       "0    1.013  6.19   443  14.8   124  1.45\n",
       "1    1.025  5.40   703  23.6   394  4.18\n",
       "2    1.009  6.13   371  24.5   159  9.04\n",
       "3    1.021  4.91   442  20.8   398  6.63\n",
       "4    1.021  5.53   874  17.8   385  2.21"
      ]
     },
     "execution_count": 11,
     "metadata": {},
     "output_type": "execute_result"
    }
   ],
   "source": [
    "X=train.drop(['target','id'],axis=1)\n",
    "y=train.target\n",
    "X.head()"
   ]
  },
  {
   "cell_type": "code",
   "execution_count": 12,
   "id": "b1f6d2c2",
   "metadata": {
    "execution": {
     "iopub.execute_input": "2023-04-12T13:17:22.785343Z",
     "iopub.status.busy": "2023-04-12T13:17:22.784913Z",
     "iopub.status.idle": "2023-04-12T13:17:22.800275Z",
     "shell.execute_reply": "2023-04-12T13:17:22.799006Z"
    },
    "papermill": {
     "duration": 0.026883,
     "end_time": "2023-04-12T13:17:22.802714",
     "exception": false,
     "start_time": "2023-04-12T13:17:22.775831",
     "status": "completed"
    },
    "tags": []
   },
   "outputs": [
    {
     "data": {
      "text/html": [
       "<div>\n",
       "<style scoped>\n",
       "    .dataframe tbody tr th:only-of-type {\n",
       "        vertical-align: middle;\n",
       "    }\n",
       "\n",
       "    .dataframe tbody tr th {\n",
       "        vertical-align: top;\n",
       "    }\n",
       "\n",
       "    .dataframe thead th {\n",
       "        text-align: right;\n",
       "    }\n",
       "</style>\n",
       "<table border=\"1\" class=\"dataframe\">\n",
       "  <thead>\n",
       "    <tr style=\"text-align: right;\">\n",
       "      <th></th>\n",
       "      <th>gravity</th>\n",
       "      <th>ph</th>\n",
       "      <th>osmo</th>\n",
       "      <th>cond</th>\n",
       "      <th>urea</th>\n",
       "      <th>calc</th>\n",
       "    </tr>\n",
       "  </thead>\n",
       "  <tbody>\n",
       "    <tr>\n",
       "      <th>0</th>\n",
       "      <td>1.017</td>\n",
       "      <td>5.24</td>\n",
       "      <td>345</td>\n",
       "      <td>11.5</td>\n",
       "      <td>152</td>\n",
       "      <td>1.16</td>\n",
       "    </tr>\n",
       "    <tr>\n",
       "      <th>1</th>\n",
       "      <td>1.020</td>\n",
       "      <td>5.68</td>\n",
       "      <td>874</td>\n",
       "      <td>29.0</td>\n",
       "      <td>385</td>\n",
       "      <td>3.46</td>\n",
       "    </tr>\n",
       "    <tr>\n",
       "      <th>2</th>\n",
       "      <td>1.024</td>\n",
       "      <td>5.36</td>\n",
       "      <td>698</td>\n",
       "      <td>19.5</td>\n",
       "      <td>354</td>\n",
       "      <td>13.00</td>\n",
       "    </tr>\n",
       "    <tr>\n",
       "      <th>3</th>\n",
       "      <td>1.020</td>\n",
       "      <td>5.33</td>\n",
       "      <td>668</td>\n",
       "      <td>25.3</td>\n",
       "      <td>252</td>\n",
       "      <td>3.46</td>\n",
       "    </tr>\n",
       "    <tr>\n",
       "      <th>4</th>\n",
       "      <td>1.011</td>\n",
       "      <td>5.87</td>\n",
       "      <td>567</td>\n",
       "      <td>29.0</td>\n",
       "      <td>457</td>\n",
       "      <td>2.36</td>\n",
       "    </tr>\n",
       "  </tbody>\n",
       "</table>\n",
       "</div>"
      ],
      "text/plain": [
       "   gravity    ph  osmo  cond  urea   calc\n",
       "0    1.017  5.24   345  11.5   152   1.16\n",
       "1    1.020  5.68   874  29.0   385   3.46\n",
       "2    1.024  5.36   698  19.5   354  13.00\n",
       "3    1.020  5.33   668  25.3   252   3.46\n",
       "4    1.011  5.87   567  29.0   457   2.36"
      ]
     },
     "execution_count": 12,
     "metadata": {},
     "output_type": "execute_result"
    }
   ],
   "source": [
    "test2=test.drop('id',axis=1)\n",
    "test2.head()"
   ]
  },
  {
   "cell_type": "code",
   "execution_count": 13,
   "id": "8760a47b",
   "metadata": {
    "execution": {
     "iopub.execute_input": "2023-04-12T13:17:22.819758Z",
     "iopub.status.busy": "2023-04-12T13:17:22.819346Z",
     "iopub.status.idle": "2023-04-12T13:17:23.960021Z",
     "shell.execute_reply": "2023-04-12T13:17:23.958845Z"
    },
    "papermill": {
     "duration": 1.152147,
     "end_time": "2023-04-12T13:17:23.962481",
     "exception": false,
     "start_time": "2023-04-12T13:17:22.810334",
     "status": "completed"
    },
    "tags": []
   },
   "outputs": [
    {
     "data": {
      "text/plain": [
       "((277, 6), (137, 6), (277,), (137,))"
      ]
     },
     "execution_count": 13,
     "metadata": {},
     "output_type": "execute_result"
    }
   ],
   "source": [
    "from sklearn.model_selection import train_test_split\n",
    "X_train, X_valid, y_train, y_valid = train_test_split(X, y, test_size=0.33, random_state=42)\n",
    "X_train.shape, X_valid.shape, y_train.shape, y_valid.shape"
   ]
  },
  {
   "cell_type": "code",
   "execution_count": 14,
   "id": "082c3404",
   "metadata": {
    "execution": {
     "iopub.execute_input": "2023-04-12T13:17:23.980427Z",
     "iopub.status.busy": "2023-04-12T13:17:23.979316Z",
     "iopub.status.idle": "2023-04-12T13:17:24.340031Z",
     "shell.execute_reply": "2023-04-12T13:17:24.338828Z"
    },
    "papermill": {
     "duration": 0.372715,
     "end_time": "2023-04-12T13:17:24.342937",
     "exception": false,
     "start_time": "2023-04-12T13:17:23.970222",
     "status": "completed"
    },
    "tags": []
   },
   "outputs": [
    {
     "name": "stderr",
     "output_type": "stream",
     "text": [
      "/opt/conda/lib/python3.7/site-packages/xgboost/sklearn.py:797: UserWarning: `early_stopping_rounds` in `fit` method is deprecated for better compatibility with scikit-learn, use `early_stopping_rounds` in constructor or`set_params` instead.\n",
      "  UserWarning,\n"
     ]
    },
    {
     "data": {
      "text/plain": [
       "XGBRegressor(base_score=0.5, booster='gbtree', callbacks=None,\n",
       "             colsample_bylevel=1, colsample_bynode=1, colsample_bytree=1,\n",
       "             early_stopping_rounds=None, enable_categorical=False,\n",
       "             eval_metric=None, gamma=0, gpu_id=-1, grow_policy='depthwise',\n",
       "             importance_type=None, interaction_constraints='',\n",
       "             learning_rate=0.0375, max_bin=256, max_cat_to_onehot=4,\n",
       "             max_delta_step=0, max_depth=6, max_leaves=0, min_child_weight=1,\n",
       "             missing=nan, monotone_constraints='()', n_estimators=1500,\n",
       "             n_jobs=0, num_parallel_tree=1, predictor='auto', random_state=0,\n",
       "             reg_alpha=0, reg_lambda=1, ...)"
      ]
     },
     "execution_count": 14,
     "metadata": {},
     "output_type": "execute_result"
    }
   ],
   "source": [
    "from xgboost import XGBRegressor\n",
    "my_model = XGBRegressor(n_estimators=1500, learning_rate=0.0375)\n",
    "my_model.fit(X_train, y_train,early_stopping_rounds=6,eval_set=[(X_valid, y_valid)],verbose=False)"
   ]
  },
  {
   "cell_type": "code",
   "execution_count": 15,
   "id": "1058e6a2",
   "metadata": {
    "execution": {
     "iopub.execute_input": "2023-04-12T13:17:24.360641Z",
     "iopub.status.busy": "2023-04-12T13:17:24.360200Z",
     "iopub.status.idle": "2023-04-12T13:17:24.375848Z",
     "shell.execute_reply": "2023-04-12T13:17:24.374402Z"
    },
    "papermill": {
     "duration": 0.027892,
     "end_time": "2023-04-12T13:17:24.378945",
     "exception": false,
     "start_time": "2023-04-12T13:17:24.351053",
     "status": "completed"
    },
    "tags": []
   },
   "outputs": [],
   "source": [
    "predictions = my_model.predict(test2)"
   ]
  },
  {
   "cell_type": "code",
   "execution_count": 16,
   "id": "fb7c8002",
   "metadata": {
    "execution": {
     "iopub.execute_input": "2023-04-12T13:17:24.398924Z",
     "iopub.status.busy": "2023-04-12T13:17:24.398529Z",
     "iopub.status.idle": "2023-04-12T13:17:24.410531Z",
     "shell.execute_reply": "2023-04-12T13:17:24.409291Z"
    },
    "papermill": {
     "duration": 0.023907,
     "end_time": "2023-04-12T13:17:24.413063",
     "exception": false,
     "start_time": "2023-04-12T13:17:24.389156",
     "status": "completed"
    },
    "tags": []
   },
   "outputs": [
    {
     "data": {
      "text/html": [
       "<div>\n",
       "<style scoped>\n",
       "    .dataframe tbody tr th:only-of-type {\n",
       "        vertical-align: middle;\n",
       "    }\n",
       "\n",
       "    .dataframe tbody tr th {\n",
       "        vertical-align: top;\n",
       "    }\n",
       "\n",
       "    .dataframe thead th {\n",
       "        text-align: right;\n",
       "    }\n",
       "</style>\n",
       "<table border=\"1\" class=\"dataframe\">\n",
       "  <thead>\n",
       "    <tr style=\"text-align: right;\">\n",
       "      <th></th>\n",
       "      <th>id</th>\n",
       "      <th>target</th>\n",
       "    </tr>\n",
       "  </thead>\n",
       "  <tbody>\n",
       "    <tr>\n",
       "      <th>0</th>\n",
       "      <td>414</td>\n",
       "      <td>0.759304</td>\n",
       "    </tr>\n",
       "    <tr>\n",
       "      <th>1</th>\n",
       "      <td>415</td>\n",
       "      <td>0.776479</td>\n",
       "    </tr>\n",
       "    <tr>\n",
       "      <th>2</th>\n",
       "      <td>416</td>\n",
       "      <td>0.793199</td>\n",
       "    </tr>\n",
       "    <tr>\n",
       "      <th>3</th>\n",
       "      <td>417</td>\n",
       "      <td>0.398591</td>\n",
       "    </tr>\n",
       "    <tr>\n",
       "      <th>4</th>\n",
       "      <td>418</td>\n",
       "      <td>0.470079</td>\n",
       "    </tr>\n",
       "  </tbody>\n",
       "</table>\n",
       "</div>"
      ],
      "text/plain": [
       "    id    target\n",
       "0  414  0.759304\n",
       "1  415  0.776479\n",
       "2  416  0.793199\n",
       "3  417  0.398591\n",
       "4  418  0.470079"
      ]
     },
     "execution_count": 16,
     "metadata": {},
     "output_type": "execute_result"
    }
   ],
   "source": [
    "output = pd.DataFrame({'id': test.id,\n",
    "                       'target': predictions})\n",
    "output.head()"
   ]
  },
  {
   "cell_type": "code",
   "execution_count": 17,
   "id": "edb0e7b8",
   "metadata": {
    "execution": {
     "iopub.execute_input": "2023-04-12T13:17:24.432008Z",
     "iopub.status.busy": "2023-04-12T13:17:24.431188Z",
     "iopub.status.idle": "2023-04-12T13:17:24.437227Z",
     "shell.execute_reply": "2023-04-12T13:17:24.435965Z"
    },
    "papermill": {
     "duration": 0.018622,
     "end_time": "2023-04-12T13:17:24.440122",
     "exception": false,
     "start_time": "2023-04-12T13:17:24.421500",
     "status": "completed"
    },
    "tags": []
   },
   "outputs": [],
   "source": [
    "output['target']=output['target'].round(decimals = 1)\n"
   ]
  },
  {
   "cell_type": "code",
   "execution_count": 18,
   "id": "ce9832dd",
   "metadata": {
    "execution": {
     "iopub.execute_input": "2023-04-12T13:17:24.458283Z",
     "iopub.status.busy": "2023-04-12T13:17:24.457866Z",
     "iopub.status.idle": "2023-04-12T13:17:24.467604Z",
     "shell.execute_reply": "2023-04-12T13:17:24.466754Z"
    },
    "papermill": {
     "duration": 0.021634,
     "end_time": "2023-04-12T13:17:24.469834",
     "exception": false,
     "start_time": "2023-04-12T13:17:24.448200",
     "status": "completed"
    },
    "tags": []
   },
   "outputs": [
    {
     "data": {
      "text/html": [
       "<div>\n",
       "<style scoped>\n",
       "    .dataframe tbody tr th:only-of-type {\n",
       "        vertical-align: middle;\n",
       "    }\n",
       "\n",
       "    .dataframe tbody tr th {\n",
       "        vertical-align: top;\n",
       "    }\n",
       "\n",
       "    .dataframe thead th {\n",
       "        text-align: right;\n",
       "    }\n",
       "</style>\n",
       "<table border=\"1\" class=\"dataframe\">\n",
       "  <thead>\n",
       "    <tr style=\"text-align: right;\">\n",
       "      <th></th>\n",
       "      <th>id</th>\n",
       "      <th>target</th>\n",
       "    </tr>\n",
       "  </thead>\n",
       "  <tbody>\n",
       "    <tr>\n",
       "      <th>0</th>\n",
       "      <td>414</td>\n",
       "      <td>0.8</td>\n",
       "    </tr>\n",
       "    <tr>\n",
       "      <th>1</th>\n",
       "      <td>415</td>\n",
       "      <td>0.8</td>\n",
       "    </tr>\n",
       "    <tr>\n",
       "      <th>2</th>\n",
       "      <td>416</td>\n",
       "      <td>0.8</td>\n",
       "    </tr>\n",
       "    <tr>\n",
       "      <th>3</th>\n",
       "      <td>417</td>\n",
       "      <td>0.4</td>\n",
       "    </tr>\n",
       "    <tr>\n",
       "      <th>4</th>\n",
       "      <td>418</td>\n",
       "      <td>0.5</td>\n",
       "    </tr>\n",
       "  </tbody>\n",
       "</table>\n",
       "</div>"
      ],
      "text/plain": [
       "    id  target\n",
       "0  414     0.8\n",
       "1  415     0.8\n",
       "2  416     0.8\n",
       "3  417     0.4\n",
       "4  418     0.5"
      ]
     },
     "execution_count": 18,
     "metadata": {},
     "output_type": "execute_result"
    }
   ],
   "source": [
    "output.head()"
   ]
  },
  {
   "cell_type": "code",
   "execution_count": 19,
   "id": "d9af549f",
   "metadata": {
    "execution": {
     "iopub.execute_input": "2023-04-12T13:17:24.489204Z",
     "iopub.status.busy": "2023-04-12T13:17:24.488496Z",
     "iopub.status.idle": "2023-04-12T13:17:24.499062Z",
     "shell.execute_reply": "2023-04-12T13:17:24.497946Z"
    },
    "papermill": {
     "duration": 0.023575,
     "end_time": "2023-04-12T13:17:24.501813",
     "exception": false,
     "start_time": "2023-04-12T13:17:24.478238",
     "status": "completed"
    },
    "tags": []
   },
   "outputs": [],
   "source": [
    "output.to_csv('submissionplaygr3.csv', index=False)"
   ]
  }
 ],
 "metadata": {
  "kernelspec": {
   "display_name": "Python 3",
   "language": "python",
   "name": "python3"
  },
  "language_info": {
   "codemirror_mode": {
    "name": "ipython",
    "version": 3
   },
   "file_extension": ".py",
   "mimetype": "text/x-python",
   "name": "python",
   "nbconvert_exporter": "python",
   "pygments_lexer": "ipython3",
   "version": "3.7.12"
  },
  "papermill": {
   "default_parameters": {},
   "duration": 13.857082,
   "end_time": "2023-04-12T13:17:25.233383",
   "environment_variables": {},
   "exception": null,
   "input_path": "__notebook__.ipynb",
   "output_path": "__notebook__.ipynb",
   "parameters": {},
   "start_time": "2023-04-12T13:17:11.376301",
   "version": "2.4.0"
  }
 },
 "nbformat": 4,
 "nbformat_minor": 5
}
